{
 "cells": [
  {
   "cell_type": "markdown",
   "id": "higher-worth",
   "metadata": {},
   "source": [
    "# Example"
   ]
  },
  {
   "cell_type": "code",
   "execution_count": 2,
   "id": "intermediate-sacramento",
   "metadata": {},
   "outputs": [
    {
     "name": "stdout",
     "output_type": "stream",
     "text": [
      "-----------  Equality Cardinality Constraint  -----------\n",
      "Mode: conventional\n",
      "\t Objective Value: 1190.000000000001\n",
      "\t Optimal Portfolio: 1,7,8\n",
      "\t Running Time: 0.11586952209472656\n",
      "Mode: proposed\n",
      "\t Objective Value: 1190.0\n",
      "\t Optimal Portfolio: 1,7,8\n",
      "\t Running Time: 0.0029888153076171875\n",
      "\n",
      "-----------  InEquality Cardinality Constraint  -----------\n",
      "Mode: conventional\n",
      "\t Objective Value: 1190.0\n",
      "\t Optimal Portfolio: 1,7,8\n",
      "\t Running Time: 0.11063003540039062\n",
      "Mode: proposed\n",
      "\t Objective Value: 1190.0\n",
      "\t Optimal Portfolio: 1,7,8\n",
      "\t Running Time: 0.0059833526611328125\n",
      "\n"
     ]
    }
   ],
   "source": [
    "import numpy as np\n",
    "import gurobipy as gp\n",
    "from gurobipy import GRB\n",
    "\n",
    "from model import PPSP_solver, instance_generator\n",
    "\n",
    "# generate a problem instance with N = 16 and m = 3\n",
    "instance = instance_generator(16, 3)\n",
    "\n",
    "# solve the instance with four kinds of models and print the result with running time\n",
    "for is_equal in [True, False]:\n",
    "    if is_equal:\n",
    "        print('-----------  Equality Cardinality Constraint  -----------')\n",
    "    else:\n",
    "        print('-----------  InEquality Cardinality Constraint  -----------')\n",
    "        \n",
    "    for mode_ in ['conventional', 'proposed']:\n",
    "        model = PPSP_solver(**instance, mode=mode_, equality=is_equal)\n",
    "        \n",
    "        if  model.status == GRB.OPTIMAL:\n",
    "            portfolio = []\n",
    "            for v in model.getVars():\n",
    "                if 'x' in v.varName and abs(v.x-1) <= 0.0001:  # avoid rounding error\n",
    "                    name = v.varName\n",
    "                    portfolio.append(name[name.find('[') + 1:-1])\n",
    "\n",
    "            print(f'Mode: {mode_}')\n",
    "            print(f'\\t Objective Value: {model.ObjVal}')\n",
    "            print(f'\\t Optimal Portfolio:', ','.join(portfolio))\n",
    "            print(f'\\t Running Time: {model.RunTime}')\n",
    "    print()"
   ]
  }
 ],
 "metadata": {
  "kernelspec": {
   "display_name": "Python 3",
   "language": "python",
   "name": "python3"
  },
  "language_info": {
   "codemirror_mode": {
    "name": "ipython",
    "version": 3
   },
   "file_extension": ".py",
   "mimetype": "text/x-python",
   "name": "python",
   "nbconvert_exporter": "python",
   "pygments_lexer": "ipython3",
   "version": "3.9.1"
  }
 },
 "nbformat": 4,
 "nbformat_minor": 5
}
